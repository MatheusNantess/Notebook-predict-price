{
 "cells": [
  {
   "cell_type": "code",
   "execution_count": 31,
   "metadata": {},
   "outputs": [],
   "source": [
    "import pandas as pd\n",
    "import numpy as np\n",
    "import matplotlib.pyplot as plt\n",
    "import seaborn as sns"
   ]
  },
  {
   "cell_type": "code",
   "execution_count": 32,
   "metadata": {},
   "outputs": [],
   "source": [
    "df = pd.read_csv('notebooks_nulos.csv')"
   ]
  },
  {
   "cell_type": "code",
   "execution_count": 33,
   "metadata": {},
   "outputs": [
    {
     "data": {
      "text/html": [
       "<div>\n",
       "<style scoped>\n",
       "    .dataframe tbody tr th:only-of-type {\n",
       "        vertical-align: middle;\n",
       "    }\n",
       "\n",
       "    .dataframe tbody tr th {\n",
       "        vertical-align: top;\n",
       "    }\n",
       "\n",
       "    .dataframe thead th {\n",
       "        text-align: right;\n",
       "    }\n",
       "</style>\n",
       "<table border=\"1\" class=\"dataframe\">\n",
       "  <thead>\n",
       "    <tr style=\"text-align: right;\">\n",
       "      <th></th>\n",
       "      <th>marca</th>\n",
       "      <th>ano</th>\n",
       "      <th>qtd_nucleos</th>\n",
       "      <th>qtd_threads</th>\n",
       "      <th>ram</th>\n",
       "      <th>gpu_dedicada</th>\n",
       "      <th>ram_gpu</th>\n",
       "      <th>entradas_usb</th>\n",
       "      <th>duracao_bateria</th>\n",
       "      <th>resolucao_tela</th>\n",
       "      <th>tipo_tela</th>\n",
       "      <th>tela_touch</th>\n",
       "      <th>armazenamento_hdd</th>\n",
       "      <th>armazenamento_ssd</th>\n",
       "      <th>segmento</th>\n",
       "      <th>valor</th>\n",
       "    </tr>\n",
       "  </thead>\n",
       "  <tbody>\n",
       "    <tr>\n",
       "      <th>0</th>\n",
       "      <td>hp</td>\n",
       "      <td>2012.0</td>\n",
       "      <td>4</td>\n",
       "      <td>5</td>\n",
       "      <td>4.0</td>\n",
       "      <td>não</td>\n",
       "      <td>0</td>\n",
       "      <td>3.0</td>\n",
       "      <td>540.0</td>\n",
       "      <td>FULLHD</td>\n",
       "      <td>TN</td>\n",
       "      <td>não</td>\n",
       "      <td>0.0</td>\n",
       "      <td>2000</td>\n",
       "      <td>NaN</td>\n",
       "      <td>16374</td>\n",
       "    </tr>\n",
       "    <tr>\n",
       "      <th>1</th>\n",
       "      <td>huawei</td>\n",
       "      <td>2014.0</td>\n",
       "      <td>10</td>\n",
       "      <td>18</td>\n",
       "      <td>16.0</td>\n",
       "      <td>não</td>\n",
       "      <td>0</td>\n",
       "      <td>NaN</td>\n",
       "      <td>517.0</td>\n",
       "      <td>4K</td>\n",
       "      <td>OLED</td>\n",
       "      <td>não</td>\n",
       "      <td>NaN</td>\n",
       "      <td>250</td>\n",
       "      <td>premium</td>\n",
       "      <td>16205</td>\n",
       "    </tr>\n",
       "    <tr>\n",
       "      <th>2</th>\n",
       "      <td>NaN</td>\n",
       "      <td>2015.0</td>\n",
       "      <td>10</td>\n",
       "      <td>11</td>\n",
       "      <td>8.0</td>\n",
       "      <td>não</td>\n",
       "      <td>0</td>\n",
       "      <td>2.0</td>\n",
       "      <td>329.0</td>\n",
       "      <td>FULLHD</td>\n",
       "      <td>IPS</td>\n",
       "      <td>sim</td>\n",
       "      <td>0.0</td>\n",
       "      <td>2000</td>\n",
       "      <td>NaN</td>\n",
       "      <td>14016</td>\n",
       "    </tr>\n",
       "    <tr>\n",
       "      <th>3</th>\n",
       "      <td>positivo</td>\n",
       "      <td>2020.0</td>\n",
       "      <td>8</td>\n",
       "      <td>16</td>\n",
       "      <td>4.0</td>\n",
       "      <td>não</td>\n",
       "      <td>0</td>\n",
       "      <td>1.0</td>\n",
       "      <td>141.0</td>\n",
       "      <td>HD</td>\n",
       "      <td>TN</td>\n",
       "      <td>não</td>\n",
       "      <td>500.0</td>\n",
       "      <td>0</td>\n",
       "      <td>entrada</td>\n",
       "      <td>5111</td>\n",
       "    </tr>\n",
       "    <tr>\n",
       "      <th>4</th>\n",
       "      <td>positivo</td>\n",
       "      <td>2010.0</td>\n",
       "      <td>2</td>\n",
       "      <td>2</td>\n",
       "      <td>4.0</td>\n",
       "      <td>não</td>\n",
       "      <td>0</td>\n",
       "      <td>2.0</td>\n",
       "      <td>125.0</td>\n",
       "      <td>HD</td>\n",
       "      <td>TN</td>\n",
       "      <td>não</td>\n",
       "      <td>500.0</td>\n",
       "      <td>0</td>\n",
       "      <td>entrada</td>\n",
       "      <td>3709</td>\n",
       "    </tr>\n",
       "    <tr>\n",
       "      <th>...</th>\n",
       "      <td>...</td>\n",
       "      <td>...</td>\n",
       "      <td>...</td>\n",
       "      <td>...</td>\n",
       "      <td>...</td>\n",
       "      <td>...</td>\n",
       "      <td>...</td>\n",
       "      <td>...</td>\n",
       "      <td>...</td>\n",
       "      <td>...</td>\n",
       "      <td>...</td>\n",
       "      <td>...</td>\n",
       "      <td>...</td>\n",
       "      <td>...</td>\n",
       "      <td>...</td>\n",
       "      <td>...</td>\n",
       "    </tr>\n",
       "    <tr>\n",
       "      <th>9995</th>\n",
       "      <td>apple</td>\n",
       "      <td>2022.0</td>\n",
       "      <td>12</td>\n",
       "      <td>17</td>\n",
       "      <td>NaN</td>\n",
       "      <td>não</td>\n",
       "      <td>0</td>\n",
       "      <td>2.0</td>\n",
       "      <td>417.0</td>\n",
       "      <td>4K</td>\n",
       "      <td>OLED</td>\n",
       "      <td>não</td>\n",
       "      <td>0.0</td>\n",
       "      <td>250</td>\n",
       "      <td>premium</td>\n",
       "      <td>23879</td>\n",
       "    </tr>\n",
       "    <tr>\n",
       "      <th>9996</th>\n",
       "      <td>xiaomi</td>\n",
       "      <td>2020.0</td>\n",
       "      <td>8</td>\n",
       "      <td>13</td>\n",
       "      <td>16.0</td>\n",
       "      <td>não</td>\n",
       "      <td>0</td>\n",
       "      <td>NaN</td>\n",
       "      <td>421.0</td>\n",
       "      <td>4K</td>\n",
       "      <td>OLED</td>\n",
       "      <td>não</td>\n",
       "      <td>0.0</td>\n",
       "      <td>1000</td>\n",
       "      <td>premium</td>\n",
       "      <td>18813</td>\n",
       "    </tr>\n",
       "    <tr>\n",
       "      <th>9997</th>\n",
       "      <td>lenovo</td>\n",
       "      <td>2016.0</td>\n",
       "      <td>10</td>\n",
       "      <td>14</td>\n",
       "      <td>8.0</td>\n",
       "      <td>não</td>\n",
       "      <td>0</td>\n",
       "      <td>NaN</td>\n",
       "      <td>147.0</td>\n",
       "      <td>HD</td>\n",
       "      <td>TN</td>\n",
       "      <td>não</td>\n",
       "      <td>250.0</td>\n",
       "      <td>0</td>\n",
       "      <td>intermediario</td>\n",
       "      <td>7259</td>\n",
       "    </tr>\n",
       "    <tr>\n",
       "      <th>9998</th>\n",
       "      <td>razer</td>\n",
       "      <td>2020.0</td>\n",
       "      <td>8</td>\n",
       "      <td>10</td>\n",
       "      <td>16.0</td>\n",
       "      <td>não</td>\n",
       "      <td>0</td>\n",
       "      <td>NaN</td>\n",
       "      <td>497.0</td>\n",
       "      <td>QUADHD</td>\n",
       "      <td>AMOLED</td>\n",
       "      <td>não</td>\n",
       "      <td>0.0</td>\n",
       "      <td>250</td>\n",
       "      <td>premium</td>\n",
       "      <td>16806</td>\n",
       "    </tr>\n",
       "    <tr>\n",
       "      <th>9999</th>\n",
       "      <td>samsung</td>\n",
       "      <td>2010.0</td>\n",
       "      <td>4</td>\n",
       "      <td>4</td>\n",
       "      <td>4.0</td>\n",
       "      <td>não</td>\n",
       "      <td>0</td>\n",
       "      <td>NaN</td>\n",
       "      <td>NaN</td>\n",
       "      <td>FULLHD</td>\n",
       "      <td>IPS</td>\n",
       "      <td>sim</td>\n",
       "      <td>250.0</td>\n",
       "      <td>250</td>\n",
       "      <td>2em1</td>\n",
       "      <td>11727</td>\n",
       "    </tr>\n",
       "  </tbody>\n",
       "</table>\n",
       "<p>10000 rows × 16 columns</p>\n",
       "</div>"
      ],
      "text/plain": [
       "         marca     ano  qtd_nucleos  qtd_threads   ram gpu_dedicada  ram_gpu  \\\n",
       "0           hp  2012.0            4            5   4.0          não        0   \n",
       "1       huawei  2014.0           10           18  16.0          não        0   \n",
       "2          NaN  2015.0           10           11   8.0          não        0   \n",
       "3     positivo  2020.0            8           16   4.0          não        0   \n",
       "4     positivo  2010.0            2            2   4.0          não        0   \n",
       "...        ...     ...          ...          ...   ...          ...      ...   \n",
       "9995     apple  2022.0           12           17   NaN          não        0   \n",
       "9996    xiaomi  2020.0            8           13  16.0          não        0   \n",
       "9997    lenovo  2016.0           10           14   8.0          não        0   \n",
       "9998     razer  2020.0            8           10  16.0          não        0   \n",
       "9999   samsung  2010.0            4            4   4.0          não        0   \n",
       "\n",
       "      entradas_usb  duracao_bateria resolucao_tela tipo_tela tela_touch  \\\n",
       "0              3.0            540.0         FULLHD        TN        não   \n",
       "1              NaN            517.0             4K      OLED        não   \n",
       "2              2.0            329.0         FULLHD       IPS        sim   \n",
       "3              1.0            141.0             HD        TN        não   \n",
       "4              2.0            125.0             HD        TN        não   \n",
       "...            ...              ...            ...       ...        ...   \n",
       "9995           2.0            417.0             4K      OLED        não   \n",
       "9996           NaN            421.0             4K      OLED        não   \n",
       "9997           NaN            147.0             HD        TN        não   \n",
       "9998           NaN            497.0         QUADHD    AMOLED        não   \n",
       "9999           NaN              NaN         FULLHD       IPS        sim   \n",
       "\n",
       "      armazenamento_hdd  armazenamento_ssd       segmento  valor  \n",
       "0                   0.0               2000            NaN  16374  \n",
       "1                   NaN                250        premium  16205  \n",
       "2                   0.0               2000            NaN  14016  \n",
       "3                 500.0                  0        entrada   5111  \n",
       "4                 500.0                  0        entrada   3709  \n",
       "...                 ...                ...            ...    ...  \n",
       "9995                0.0                250        premium  23879  \n",
       "9996                0.0               1000        premium  18813  \n",
       "9997              250.0                  0  intermediario   7259  \n",
       "9998                0.0                250        premium  16806  \n",
       "9999              250.0                250           2em1  11727  \n",
       "\n",
       "[10000 rows x 16 columns]"
      ]
     },
     "execution_count": 33,
     "metadata": {},
     "output_type": "execute_result"
    }
   ],
   "source": [
    "df"
   ]
  },
  {
   "cell_type": "code",
   "execution_count": 34,
   "metadata": {},
   "outputs": [
    {
     "data": {
      "text/html": [
       "<div>\n",
       "<style scoped>\n",
       "    .dataframe tbody tr th:only-of-type {\n",
       "        vertical-align: middle;\n",
       "    }\n",
       "\n",
       "    .dataframe tbody tr th {\n",
       "        vertical-align: top;\n",
       "    }\n",
       "\n",
       "    .dataframe thead th {\n",
       "        text-align: right;\n",
       "    }\n",
       "</style>\n",
       "<table border=\"1\" class=\"dataframe\">\n",
       "  <thead>\n",
       "    <tr style=\"text-align: right;\">\n",
       "      <th></th>\n",
       "      <th>ano</th>\n",
       "      <th>qtd_nucleos</th>\n",
       "      <th>qtd_threads</th>\n",
       "      <th>ram</th>\n",
       "      <th>ram_gpu</th>\n",
       "      <th>entradas_usb</th>\n",
       "      <th>duracao_bateria</th>\n",
       "      <th>armazenamento_hdd</th>\n",
       "      <th>armazenamento_ssd</th>\n",
       "      <th>valor</th>\n",
       "    </tr>\n",
       "  </thead>\n",
       "  <tbody>\n",
       "    <tr>\n",
       "      <th>count</th>\n",
       "      <td>9720.000000</td>\n",
       "      <td>10000.000000</td>\n",
       "      <td>10000.000000</td>\n",
       "      <td>8459.000000</td>\n",
       "      <td>10000.000000</td>\n",
       "      <td>4956.000000</td>\n",
       "      <td>7553.000000</td>\n",
       "      <td>9930.000000</td>\n",
       "      <td>10000.00000</td>\n",
       "      <td>10000.000000</td>\n",
       "    </tr>\n",
       "    <tr>\n",
       "      <th>mean</th>\n",
       "      <td>2016.514815</td>\n",
       "      <td>7.324000</td>\n",
       "      <td>10.993700</td>\n",
       "      <td>13.699492</td>\n",
       "      <td>1.233400</td>\n",
       "      <td>2.615819</td>\n",
       "      <td>343.560704</td>\n",
       "      <td>338.393756</td>\n",
       "      <td>618.51250</td>\n",
       "      <td>15120.159000</td>\n",
       "    </tr>\n",
       "    <tr>\n",
       "      <th>std</th>\n",
       "      <td>4.048526</td>\n",
       "      <td>2.924633</td>\n",
       "      <td>5.039702</td>\n",
       "      <td>10.533601</td>\n",
       "      <td>2.343432</td>\n",
       "      <td>0.894937</td>\n",
       "      <td>193.130015</td>\n",
       "      <td>576.395117</td>\n",
       "      <td>651.52613</td>\n",
       "      <td>6131.696462</td>\n",
       "    </tr>\n",
       "    <tr>\n",
       "      <th>min</th>\n",
       "      <td>2010.000000</td>\n",
       "      <td>2.000000</td>\n",
       "      <td>2.000000</td>\n",
       "      <td>2.000000</td>\n",
       "      <td>0.000000</td>\n",
       "      <td>1.000000</td>\n",
       "      <td>30.000000</td>\n",
       "      <td>0.000000</td>\n",
       "      <td>0.00000</td>\n",
       "      <td>2542.000000</td>\n",
       "    </tr>\n",
       "    <tr>\n",
       "      <th>25%</th>\n",
       "      <td>2013.000000</td>\n",
       "      <td>4.000000</td>\n",
       "      <td>7.000000</td>\n",
       "      <td>8.000000</td>\n",
       "      <td>0.000000</td>\n",
       "      <td>2.000000</td>\n",
       "      <td>147.000000</td>\n",
       "      <td>0.000000</td>\n",
       "      <td>250.00000</td>\n",
       "      <td>9563.750000</td>\n",
       "    </tr>\n",
       "    <tr>\n",
       "      <th>50%</th>\n",
       "      <td>2017.000000</td>\n",
       "      <td>8.000000</td>\n",
       "      <td>11.000000</td>\n",
       "      <td>12.000000</td>\n",
       "      <td>0.000000</td>\n",
       "      <td>3.000000</td>\n",
       "      <td>418.000000</td>\n",
       "      <td>0.000000</td>\n",
       "      <td>250.00000</td>\n",
       "      <td>15866.000000</td>\n",
       "    </tr>\n",
       "    <tr>\n",
       "      <th>75%</th>\n",
       "      <td>2020.000000</td>\n",
       "      <td>10.000000</td>\n",
       "      <td>14.000000</td>\n",
       "      <td>16.000000</td>\n",
       "      <td>0.000000</td>\n",
       "      <td>3.000000</td>\n",
       "      <td>522.000000</td>\n",
       "      <td>500.000000</td>\n",
       "      <td>1000.00000</td>\n",
       "      <td>20091.000000</td>\n",
       "    </tr>\n",
       "    <tr>\n",
       "      <th>max</th>\n",
       "      <td>2023.000000</td>\n",
       "      <td>12.000000</td>\n",
       "      <td>24.000000</td>\n",
       "      <td>64.000000</td>\n",
       "      <td>12.000000</td>\n",
       "      <td>4.000000</td>\n",
       "      <td>600.000000</td>\n",
       "      <td>2000.000000</td>\n",
       "      <td>2000.00000</td>\n",
       "      <td>27966.000000</td>\n",
       "    </tr>\n",
       "  </tbody>\n",
       "</table>\n",
       "</div>"
      ],
      "text/plain": [
       "               ano   qtd_nucleos   qtd_threads          ram       ram_gpu  \\\n",
       "count  9720.000000  10000.000000  10000.000000  8459.000000  10000.000000   \n",
       "mean   2016.514815      7.324000     10.993700    13.699492      1.233400   \n",
       "std       4.048526      2.924633      5.039702    10.533601      2.343432   \n",
       "min    2010.000000      2.000000      2.000000     2.000000      0.000000   \n",
       "25%    2013.000000      4.000000      7.000000     8.000000      0.000000   \n",
       "50%    2017.000000      8.000000     11.000000    12.000000      0.000000   \n",
       "75%    2020.000000     10.000000     14.000000    16.000000      0.000000   \n",
       "max    2023.000000     12.000000     24.000000    64.000000     12.000000   \n",
       "\n",
       "       entradas_usb  duracao_bateria  armazenamento_hdd  armazenamento_ssd  \\\n",
       "count   4956.000000      7553.000000        9930.000000        10000.00000   \n",
       "mean       2.615819       343.560704         338.393756          618.51250   \n",
       "std        0.894937       193.130015         576.395117          651.52613   \n",
       "min        1.000000        30.000000           0.000000            0.00000   \n",
       "25%        2.000000       147.000000           0.000000          250.00000   \n",
       "50%        3.000000       418.000000           0.000000          250.00000   \n",
       "75%        3.000000       522.000000         500.000000         1000.00000   \n",
       "max        4.000000       600.000000        2000.000000         2000.00000   \n",
       "\n",
       "              valor  \n",
       "count  10000.000000  \n",
       "mean   15120.159000  \n",
       "std     6131.696462  \n",
       "min     2542.000000  \n",
       "25%     9563.750000  \n",
       "50%    15866.000000  \n",
       "75%    20091.000000  \n",
       "max    27966.000000  "
      ]
     },
     "execution_count": 34,
     "metadata": {},
     "output_type": "execute_result"
    }
   ],
   "source": [
    "df.describe()"
   ]
  },
  {
   "cell_type": "code",
   "execution_count": 35,
   "metadata": {},
   "outputs": [
    {
     "name": "stdout",
     "output_type": "stream",
     "text": [
      "<class 'pandas.core.frame.DataFrame'>\n",
      "RangeIndex: 10000 entries, 0 to 9999\n",
      "Data columns (total 16 columns):\n",
      " #   Column             Non-Null Count  Dtype  \n",
      "---  ------             --------------  -----  \n",
      " 0   marca              8862 non-null   object \n",
      " 1   ano                9720 non-null   float64\n",
      " 2   qtd_nucleos        10000 non-null  int64  \n",
      " 3   qtd_threads        10000 non-null  int64  \n",
      " 4   ram                8459 non-null   float64\n",
      " 5   gpu_dedicada       10000 non-null  object \n",
      " 6   ram_gpu            10000 non-null  int64  \n",
      " 7   entradas_usb       4956 non-null   float64\n",
      " 8   duracao_bateria    7553 non-null   float64\n",
      " 9   resolucao_tela     10000 non-null  object \n",
      " 10  tipo_tela          10000 non-null  object \n",
      " 11  tela_touch         10000 non-null  object \n",
      " 12  armazenamento_hdd  9930 non-null   float64\n",
      " 13  armazenamento_ssd  10000 non-null  int64  \n",
      " 14  segmento           9048 non-null   object \n",
      " 15  valor              10000 non-null  int64  \n",
      "dtypes: float64(5), int64(5), object(6)\n",
      "memory usage: 1.2+ MB\n"
     ]
    }
   ],
   "source": [
    "df.info()"
   ]
  },
  {
   "cell_type": "code",
   "execution_count": 36,
   "metadata": {},
   "outputs": [
    {
     "data": {
      "text/plain": [
       "marca                1138\n",
       "ano                   280\n",
       "qtd_nucleos             0\n",
       "qtd_threads             0\n",
       "ram                  1541\n",
       "gpu_dedicada            0\n",
       "ram_gpu                 0\n",
       "entradas_usb         5044\n",
       "duracao_bateria      2447\n",
       "resolucao_tela          0\n",
       "tipo_tela               0\n",
       "tela_touch              0\n",
       "armazenamento_hdd      70\n",
       "armazenamento_ssd       0\n",
       "segmento              952\n",
       "valor                   0\n",
       "dtype: int64"
      ]
     },
     "execution_count": 36,
     "metadata": {},
     "output_type": "execute_result"
    }
   ],
   "source": [
    "df.isnull().sum()"
   ]
  },
  {
   "cell_type": "code",
   "execution_count": 37,
   "metadata": {},
   "outputs": [
    {
     "data": {
      "text/plain": [
       "<Axes: xlabel='entradas_usb', ylabel='valor'>"
      ]
     },
     "execution_count": 37,
     "metadata": {},
     "output_type": "execute_result"
    },
    {
     "data": {
      "image/png": "[encoded data removed]",
      "text/plain": [
       "<Figure size 640x480 with 1 Axes>"
      ]
     },
     "metadata": {},
     "output_type": "display_data"
    }
   ],
   "source": [
    "# vendo a distribuição dos valores\n",
    "sns.boxplot(df, x='entradas_usb', y='valor')"
   ]
  },
  {
   "cell_type": "code",
   "execution_count": 38,
   "metadata": {},
   "outputs": [
    {
     "name": "stdout",
     "output_type": "stream",
     "text": [
      "[ 3. nan  2.  1.  4.]\n"
     ]
    },
    {
     "name": "stderr",
     "output_type": "stream",
     "text": [
      "C:\\Users\\mathe\\AppData\\Local\\Temp\\ipykernel_43712\\1089208254.py:8: FutureWarning: A value is trying to be set on a copy of a DataFrame or Series through chained assignment using an inplace method.\n",
      "The behavior will change in pandas 3.0. This inplace method will never work because the intermediate object on which we are setting values always behaves as a copy.\n",
      "\n",
      "For example, when doing 'df[col].method(value, inplace=True)', try using 'df.method({col: value}, inplace=True)' or df[col] = df[col].method(value) instead, to perform the operation inplace on the original object.\n",
      "\n",
      "\n",
      "  df['entradas_usb'].fillna(2, inplace=True)\n"
     ]
    }
   ],
   "source": [
    "#substituir os NaN de 'entradas_usb' pelo numero que mais aparece nessa coluna\n",
    "\n",
    "#numero unicos de entradas_usb\n",
    "print(df['entradas_usb'].unique())\n",
    "\n",
    "\n",
    "df['entradas_usb'].value_counts()\n",
    "df['entradas_usb'].fillna(2, inplace=True)"
   ]
  },
  {
   "cell_type": "code",
   "execution_count": 39,
   "metadata": {},
   "outputs": [
    {
     "data": {
      "text/plain": [
       "marca                1138\n",
       "ano                   280\n",
       "qtd_nucleos             0\n",
       "qtd_threads             0\n",
       "ram                  1541\n",
       "gpu_dedicada            0\n",
       "ram_gpu                 0\n",
       "entradas_usb            0\n",
       "duracao_bateria      2447\n",
       "resolucao_tela          0\n",
       "tipo_tela               0\n",
       "tela_touch              0\n",
       "armazenamento_hdd      70\n",
       "armazenamento_ssd       0\n",
       "segmento              952\n",
       "valor                   0\n",
       "dtype: int64"
      ]
     },
     "execution_count": 39,
     "metadata": {},
     "output_type": "execute_result"
    }
   ],
   "source": [
    "df.isnull().sum()"
   ]
  },
  {
   "cell_type": "code",
   "execution_count": 40,
   "metadata": {},
   "outputs": [
    {
     "name": "stderr",
     "output_type": "stream",
     "text": [
      "C:\\Users\\mathe\\AppData\\Local\\Temp\\ipykernel_43712\\4187017373.py:2: FutureWarning: A value is trying to be set on a copy of a DataFrame or Series through chained assignment using an inplace method.\n",
      "The behavior will change in pandas 3.0. This inplace method will never work because the intermediate object on which we are setting values always behaves as a copy.\n",
      "\n",
      "For example, when doing 'df[col].method(value, inplace=True)', try using 'df.method({col: value}, inplace=True)' or df[col] = df[col].method(value) instead, to perform the operation inplace on the original object.\n",
      "\n",
      "\n",
      "  df['duracao_bateria'].fillna(df['duracao_bateria'].mean(), inplace=True)\n"
     ]
    }
   ],
   "source": [
    "#duracao da bateria sera substituido pela media\n",
    "df['duracao_bateria'].fillna(df['duracao_bateria'].mean(), inplace=True)"
   ]
  },
  {
   "cell_type": "code",
   "execution_count": 41,
   "metadata": {},
   "outputs": [
    {
     "data": {
      "text/plain": [
       "ram\n",
       "16.0    2714\n",
       "8.0     2412\n",
       "12.0    1128\n",
       "32.0     700\n",
       "2.0      470\n",
       "4.0      442\n",
       "6.0      404\n",
       "64.0     189\n",
       "Name: count, dtype: int64"
      ]
     },
     "execution_count": 41,
     "metadata": {},
     "output_type": "execute_result"
    }
   ],
   "source": [
    "#valores unicos de ram\n",
    "df['ram'].value_counts()"
   ]
  },
  {
   "cell_type": "code",
   "execution_count": 42,
   "metadata": {},
   "outputs": [
    {
     "data": {
      "image/png": "[encoded data removed]",
      "text/plain": [
       "<Figure size 640x480 with 1 Axes>"
      ]
     },
     "metadata": {},
     "output_type": "display_data"
    }
   ],
   "source": [
    "import seaborn as sns\n",
    "import matplotlib.pyplot as plt\n",
    "sns.boxplot(df, x='ram', y='valor', hue='ram')\n",
    "\n",
    "# Adicionar grid\n",
    "plt.grid(True)\n",
    "\n",
    "\n",
    "\n",
    "# Mostrar o gráfico\n",
    "plt.show()"
   ]
  },
  {
   "cell_type": "code",
   "execution_count": 43,
   "metadata": {},
   "outputs": [
    {
     "name": "stderr",
     "output_type": "stream",
     "text": [
      "C:\\Users\\mathe\\AppData\\Local\\Temp\\ipykernel_43712\\1621979865.py:2: FutureWarning: A value is trying to be set on a copy of a DataFrame or Series through chained assignment using an inplace method.\n",
      "The behavior will change in pandas 3.0. This inplace method will never work because the intermediate object on which we are setting values always behaves as a copy.\n",
      "\n",
      "For example, when doing 'df[col].method(value, inplace=True)', try using 'df.method({col: value}, inplace=True)' or df[col] = df[col].method(value) instead, to perform the operation inplace on the original object.\n",
      "\n",
      "\n",
      "  df['ram'].fillna(8, inplace=True)\n"
     ]
    }
   ],
   "source": [
    "#aqui eu irei substituir os valores NaN de ram pelos valores mais frequentes de acordo com o valor do notebook\n",
    "df['ram'].fillna(8, inplace=True)"
   ]
  },
  {
   "cell_type": "code",
   "execution_count": 44,
   "metadata": {},
   "outputs": [
    {
     "name": "stdout",
     "output_type": "stream",
     "text": [
      "27966\n"
     ]
    },
    {
     "data": {
      "text/plain": [
       "segmento\n",
       "premium                 3433\n",
       "ultraportatil            854\n",
       "jogos_premium            801\n",
       "jogos_intermediarios     565\n",
       "2em1                     441\n",
       "intermediario            316\n",
       "entrada                  186\n",
       "jogos_entrada             41\n",
       "Name: count, dtype: int64"
      ]
     },
     "execution_count": 44,
     "metadata": {},
     "output_type": "execute_result"
    }
   ],
   "source": [
    "#parte de segmento agora\n",
    "print(df['valor'].max())\n",
    "df.loc[df['valor'] >= 10000, 'segmento'].value_counts()"
   ]
  },
  {
   "cell_type": "code",
   "execution_count": 45,
   "metadata": {},
   "outputs": [
    {
     "data": {
      "image/png": "[encoded data removed]",
      "text/plain": [
       "<Figure size 1000x600 with 1 Axes>"
      ]
     },
     "metadata": {},
     "output_type": "display_data"
    }
   ],
   "source": [
    "plt.figure(figsize=(10, 6))\n",
    "sns.boxplot(df, x='segmento', y='valor', hue='segmento', legend=False)\n",
    "plt.grid(True)\n",
    "plt.tight_layout()\n"
   ]
  },
  {
   "cell_type": "code",
   "execution_count": 46,
   "metadata": {},
   "outputs": [
    {
     "name": "stderr",
     "output_type": "stream",
     "text": [
      "C:\\Users\\mathe\\AppData\\Local\\Temp\\ipykernel_43712\\2714934823.py:2: FutureWarning: A value is trying to be set on a copy of a DataFrame or Series through chained assignment using an inplace method.\n",
      "The behavior will change in pandas 3.0. This inplace method will never work because the intermediate object on which we are setting values always behaves as a copy.\n",
      "\n",
      "For example, when doing 'df[col].method(value, inplace=True)', try using 'df.method({col: value}, inplace=True)' or df[col] = df[col].method(value) instead, to perform the operation inplace on the original object.\n",
      "\n",
      "\n",
      "  df['segmento'].fillna('premium', inplace=True)\n"
     ]
    }
   ],
   "source": [
    "#substiuir os valores NaN de segmento pelo valor mais frequente\n",
    "df['segmento'].fillna('premium', inplace=True)\n"
   ]
  },
  {
   "cell_type": "code",
   "execution_count": 47,
   "metadata": {},
   "outputs": [
    {
     "data": {
      "text/plain": [
       "marca                1138\n",
       "ano                   280\n",
       "qtd_nucleos             0\n",
       "qtd_threads             0\n",
       "ram                     0\n",
       "gpu_dedicada            0\n",
       "ram_gpu                 0\n",
       "entradas_usb            0\n",
       "duracao_bateria         0\n",
       "resolucao_tela          0\n",
       "tipo_tela               0\n",
       "tela_touch              0\n",
       "armazenamento_hdd      70\n",
       "armazenamento_ssd       0\n",
       "segmento                0\n",
       "valor                   0\n",
       "dtype: int64"
      ]
     },
     "execution_count": 47,
     "metadata": {},
     "output_type": "execute_result"
    }
   ],
   "source": [
    "df.isnull().sum()"
   ]
  },
  {
   "cell_type": "code",
   "execution_count": 48,
   "metadata": {},
   "outputs": [
    {
     "name": "stderr",
     "output_type": "stream",
     "text": [
      "C:\\Users\\mathe\\AppData\\Local\\Temp\\ipykernel_43712\\3709980378.py:4: FutureWarning: A value is trying to be set on a copy of a DataFrame or Series through chained assignment using an inplace method.\n",
      "The behavior will change in pandas 3.0. This inplace method will never work because the intermediate object on which we are setting values always behaves as a copy.\n",
      "\n",
      "For example, when doing 'df[col].method(value, inplace=True)', try using 'df.method({col: value}, inplace=True)' or df[col] = df[col].method(value) instead, to perform the operation inplace on the original object.\n",
      "\n",
      "\n",
      "  df['armazenamento_hdd'].fillna(1000, inplace=True)\n"
     ]
    }
   ],
   "source": [
    "#hd NaN\n",
    "df['armazenamento_hdd'].value_counts()\n",
    "\n",
    "df['armazenamento_hdd'].fillna(1000, inplace=True)"
   ]
  },
  {
   "cell_type": "code",
   "execution_count": 49,
   "metadata": {},
   "outputs": [
    {
     "data": {
      "text/plain": [
       "marca                1138\n",
       "ano                   280\n",
       "qtd_nucleos             0\n",
       "qtd_threads             0\n",
       "ram                     0\n",
       "gpu_dedicada            0\n",
       "ram_gpu                 0\n",
       "entradas_usb            0\n",
       "duracao_bateria         0\n",
       "resolucao_tela          0\n",
       "tipo_tela               0\n",
       "tela_touch              0\n",
       "armazenamento_hdd       0\n",
       "armazenamento_ssd       0\n",
       "segmento                0\n",
       "valor                   0\n",
       "dtype: int64"
      ]
     },
     "execution_count": 49,
     "metadata": {},
     "output_type": "execute_result"
    }
   ],
   "source": [
    "df.isnull().sum()"
   ]
  },
  {
   "cell_type": "code",
   "execution_count": 50,
   "metadata": {},
   "outputs": [
    {
     "data": {
      "text/plain": [
       "marca\n",
       "positivo    859\n",
       "apple       835\n",
       "samsung     829\n",
       "razer       821\n",
       "hp          819\n",
       "lenovo      798\n",
       "asus        796\n",
       "dell        795\n",
       "xiaomi      789\n",
       "acer        775\n",
       "huawei      746\n",
       "Name: count, dtype: int64"
      ]
     },
     "execution_count": 50,
     "metadata": {},
     "output_type": "execute_result"
    }
   ],
   "source": [
    "#marca NaN\n",
    "df['marca'].value_counts()"
   ]
  },
  {
   "cell_type": "code",
   "execution_count": 51,
   "metadata": {},
   "outputs": [
    {
     "data": {
      "image/png": "[encoded data removed]",
      "text/plain": [
       "<Figure size 640x480 with 1 Axes>"
      ]
     },
     "metadata": {},
     "output_type": "display_data"
    }
   ],
   "source": [
    "sns.boxplot(df, x='marca', y='valor', hue='marca', legend=False)\n",
    "plt.grid(True)"
   ]
  },
  {
   "cell_type": "code",
   "execution_count": 52,
   "metadata": {},
   "outputs": [
    {
     "name": "stdout",
     "output_type": "stream",
     "text": [
      "0\n"
     ]
    }
   ],
   "source": [
    "df.loc[df['valor'] < 10000, 'marca'] = df.loc[df['valor'] < 10000, 'marca'].fillna('Positivo')\n",
    "df.loc[df['valor'] > 15000, 'marca'] = df.loc[df['valor'] > 15000, 'marca'].fillna('apple')\n",
    "df.loc[df['valor'].between(10000, 15000), 'marca'] = df.loc[df['valor'].between(10000, 15000), 'marca'].fillna('samsung')\n",
    "print(df['marca'].isnull().sum())"
   ]
  },
  {
   "cell_type": "code",
   "execution_count": 53,
   "metadata": {},
   "outputs": [
    {
     "name": "stdout",
     "output_type": "stream",
     "text": [
      "marca                  0\n",
      "ano                  280\n",
      "qtd_nucleos            0\n",
      "qtd_threads            0\n",
      "ram                    0\n",
      "gpu_dedicada           0\n",
      "ram_gpu                0\n",
      "entradas_usb           0\n",
      "duracao_bateria        0\n",
      "resolucao_tela         0\n",
      "tipo_tela              0\n",
      "tela_touch             0\n",
      "armazenamento_hdd      0\n",
      "armazenamento_ssd      0\n",
      "segmento               0\n",
      "valor                  0\n",
      "dtype: int64\n"
     ]
    }
   ],
   "source": [
    "print(df.isnull().sum())"
   ]
  },
  {
   "cell_type": "code",
   "execution_count": 54,
   "metadata": {},
   "outputs": [
    {
     "name": "stdout",
     "output_type": "stream",
     "text": [
      "<class 'pandas.core.frame.DataFrame'>\n",
      "RangeIndex: 10000 entries, 0 to 9999\n",
      "Data columns (total 16 columns):\n",
      " #   Column             Non-Null Count  Dtype  \n",
      "---  ------             --------------  -----  \n",
      " 0   marca              10000 non-null  object \n",
      " 1   ano                9720 non-null   float64\n",
      " 2   qtd_nucleos        10000 non-null  int64  \n",
      " 3   qtd_threads        10000 non-null  int64  \n",
      " 4   ram                10000 non-null  float64\n",
      " 5   gpu_dedicada       10000 non-null  object \n",
      " 6   ram_gpu            10000 non-null  int64  \n",
      " 7   entradas_usb       10000 non-null  float64\n",
      " 8   duracao_bateria    10000 non-null  float64\n",
      " 9   resolucao_tela     10000 non-null  object \n",
      " 10  tipo_tela          10000 non-null  object \n",
      " 11  tela_touch         10000 non-null  object \n",
      " 12  armazenamento_hdd  10000 non-null  float64\n",
      " 13  armazenamento_ssd  10000 non-null  int64  \n",
      " 14  segmento           10000 non-null  object \n",
      " 15  valor              10000 non-null  int64  \n",
      "dtypes: float64(5), int64(5), object(6)\n",
      "memory usage: 1.2+ MB\n"
     ]
    }
   ],
   "source": [
    "df.info()"
   ]
  },
  {
   "cell_type": "code",
   "execution_count": 55,
   "metadata": {},
   "outputs": [
    {
     "data": {
      "text/plain": [
       "ano\n",
       "2020.0    756\n",
       "2023.0    732\n",
       "2011.0    722\n",
       "2018.0    715\n",
       "2015.0    702\n",
       "2010.0    702\n",
       "2014.0    693\n",
       "2019.0    681\n",
       "2013.0    677\n",
       "2016.0    670\n",
       "2012.0    669\n",
       "2017.0    668\n",
       "2022.0    667\n",
       "2021.0    666\n",
       "Name: count, dtype: int64"
      ]
     },
     "execution_count": 55,
     "metadata": {},
     "output_type": "execute_result"
    }
   ],
   "source": [
    "df['ano'].value_counts()"
   ]
  },
  {
   "cell_type": "code",
   "execution_count": 56,
   "metadata": {},
   "outputs": [
    {
     "data": {
      "image/png": "[encoded data removed]",
      "text/plain": [
       "<Figure size 1000x600 with 1 Axes>"
      ]
     },
     "metadata": {},
     "output_type": "display_data"
    }
   ],
   "source": [
    "plt.figure(figsize=(10, 6))\n",
    "sns.boxplot(df, x='ano', y='qtd_nucleos', hue='ano', legend=False)\n",
    "\n",
    "plt.show()\n",
    "\n"
   ]
  },
  {
   "cell_type": "code",
   "execution_count": 57,
   "metadata": {},
   "outputs": [
    {
     "name": "stdout",
     "output_type": "stream",
     "text": [
      "0\n"
     ]
    }
   ],
   "source": [
    "#a partir de 2014 todos os notebooks tem 4 nucleos, usarei isso para lidar mais precisamente com os NaN\n",
    "df.loc[df['qtd_nucleos'] < 4, 'ano'] = df.loc[df['qtd_nucleos'] < 4, 'ano'].fillna(2011)\n",
    "df.loc[df['qtd_nucleos'] >= 4, 'ano'] = df.loc[df['qtd_nucleos'] >= 4, 'ano'].fillna(2020)\n",
    "print(df['ano'].isnull().sum())"
   ]
  },
  {
   "cell_type": "code",
   "execution_count": 58,
   "metadata": {},
   "outputs": [
    {
     "name": "stdout",
     "output_type": "stream",
     "text": [
      "<class 'pandas.core.frame.DataFrame'>\n",
      "RangeIndex: 10000 entries, 0 to 9999\n",
      "Data columns (total 16 columns):\n",
      " #   Column             Non-Null Count  Dtype  \n",
      "---  ------             --------------  -----  \n",
      " 0   marca              10000 non-null  object \n",
      " 1   ano                10000 non-null  float64\n",
      " 2   qtd_nucleos        10000 non-null  int64  \n",
      " 3   qtd_threads        10000 non-null  int64  \n",
      " 4   ram                10000 non-null  float64\n",
      " 5   gpu_dedicada       10000 non-null  object \n",
      " 6   ram_gpu            10000 non-null  int64  \n",
      " 7   entradas_usb       10000 non-null  float64\n",
      " 8   duracao_bateria    10000 non-null  float64\n",
      " 9   resolucao_tela     10000 non-null  object \n",
      " 10  tipo_tela          10000 non-null  object \n",
      " 11  tela_touch         10000 non-null  object \n",
      " 12  armazenamento_hdd  10000 non-null  float64\n",
      " 13  armazenamento_ssd  10000 non-null  int64  \n",
      " 14  segmento           10000 non-null  object \n",
      " 15  valor              10000 non-null  int64  \n",
      "dtypes: float64(5), int64(5), object(6)\n",
      "memory usage: 1.2+ MB\n",
      "None\n"
     ]
    }
   ],
   "source": [
    "\n",
    "print(df.info())"
   ]
  },
  {
   "cell_type": "code",
   "execution_count": 59,
   "metadata": {},
   "outputs": [
    {
     "data": {
      "text/plain": [
       "resolucao_tela\n",
       "FULLHD    4086\n",
       "HD        2259\n",
       "4K        1912\n",
       "QUADHD    1743\n",
       "Name: count, dtype: int64"
      ]
     },
     "execution_count": 59,
     "metadata": {},
     "output_type": "execute_result"
    }
   ],
   "source": [
    "#resolucao tela\n",
    "df['resolucao_tela'].value_counts()"
   ]
  },
  {
   "cell_type": "code",
   "execution_count": 60,
   "metadata": {},
   "outputs": [],
   "source": [
    "#aplicando o one hot encoder para as colunas que são categóricas  \n",
    "from sklearn.preprocessing import LabelEncoder\n",
    "le = LabelEncoder()\n",
    "\n",
    "df['gpu_dedicada'] = le.fit_transform(df['gpu_dedicada'])\n",
    "df['tipo_tela'] = le.fit_transform(df['tipo_tela'])\n",
    "df['tela_touch'] = le.fit_transform(df['tela_touch'])\n",
    "df['segmento'] = le.fit_transform(df['segmento'])\n",
    "df['resolucao_tela'] = le.fit_transform(df['resolucao_tela'])\n",
    "\t\n"
   ]
  },
  {
   "cell_type": "code",
   "execution_count": 61,
   "metadata": {},
   "outputs": [
    {
     "data": {
      "text/html": [
       "<div>\n",
       "<style scoped>\n",
       "    .dataframe tbody tr th:only-of-type {\n",
       "        vertical-align: middle;\n",
       "    }\n",
       "\n",
       "    .dataframe tbody tr th {\n",
       "        vertical-align: top;\n",
       "    }\n",
       "\n",
       "    .dataframe thead th {\n",
       "        text-align: right;\n",
       "    }\n",
       "</style>\n",
       "<table border=\"1\" class=\"dataframe\">\n",
       "  <thead>\n",
       "    <tr style=\"text-align: right;\">\n",
       "      <th></th>\n",
       "      <th>marca</th>\n",
       "      <th>ano</th>\n",
       "      <th>qtd_nucleos</th>\n",
       "      <th>qtd_threads</th>\n",
       "      <th>ram</th>\n",
       "      <th>gpu_dedicada</th>\n",
       "      <th>ram_gpu</th>\n",
       "      <th>entradas_usb</th>\n",
       "      <th>duracao_bateria</th>\n",
       "      <th>resolucao_tela</th>\n",
       "      <th>tipo_tela</th>\n",
       "      <th>tela_touch</th>\n",
       "      <th>armazenamento_hdd</th>\n",
       "      <th>armazenamento_ssd</th>\n",
       "      <th>segmento</th>\n",
       "      <th>valor</th>\n",
       "    </tr>\n",
       "  </thead>\n",
       "  <tbody>\n",
       "    <tr>\n",
       "      <th>0</th>\n",
       "      <td>hp</td>\n",
       "      <td>2012.0</td>\n",
       "      <td>4</td>\n",
       "      <td>5</td>\n",
       "      <td>4.0</td>\n",
       "      <td>0</td>\n",
       "      <td>0</td>\n",
       "      <td>3.0</td>\n",
       "      <td>540.000000</td>\n",
       "      <td>1</td>\n",
       "      <td>3</td>\n",
       "      <td>0</td>\n",
       "      <td>0.0</td>\n",
       "      <td>2000</td>\n",
       "      <td>6</td>\n",
       "      <td>16374</td>\n",
       "    </tr>\n",
       "    <tr>\n",
       "      <th>1</th>\n",
       "      <td>huawei</td>\n",
       "      <td>2014.0</td>\n",
       "      <td>10</td>\n",
       "      <td>18</td>\n",
       "      <td>16.0</td>\n",
       "      <td>0</td>\n",
       "      <td>0</td>\n",
       "      <td>2.0</td>\n",
       "      <td>517.000000</td>\n",
       "      <td>0</td>\n",
       "      <td>2</td>\n",
       "      <td>0</td>\n",
       "      <td>1000.0</td>\n",
       "      <td>250</td>\n",
       "      <td>6</td>\n",
       "      <td>16205</td>\n",
       "    </tr>\n",
       "    <tr>\n",
       "      <th>2</th>\n",
       "      <td>samsung</td>\n",
       "      <td>2015.0</td>\n",
       "      <td>10</td>\n",
       "      <td>11</td>\n",
       "      <td>8.0</td>\n",
       "      <td>0</td>\n",
       "      <td>0</td>\n",
       "      <td>2.0</td>\n",
       "      <td>329.000000</td>\n",
       "      <td>1</td>\n",
       "      <td>1</td>\n",
       "      <td>1</td>\n",
       "      <td>0.0</td>\n",
       "      <td>2000</td>\n",
       "      <td>6</td>\n",
       "      <td>14016</td>\n",
       "    </tr>\n",
       "    <tr>\n",
       "      <th>3</th>\n",
       "      <td>positivo</td>\n",
       "      <td>2020.0</td>\n",
       "      <td>8</td>\n",
       "      <td>16</td>\n",
       "      <td>4.0</td>\n",
       "      <td>0</td>\n",
       "      <td>0</td>\n",
       "      <td>1.0</td>\n",
       "      <td>141.000000</td>\n",
       "      <td>2</td>\n",
       "      <td>3</td>\n",
       "      <td>0</td>\n",
       "      <td>500.0</td>\n",
       "      <td>0</td>\n",
       "      <td>1</td>\n",
       "      <td>5111</td>\n",
       "    </tr>\n",
       "    <tr>\n",
       "      <th>4</th>\n",
       "      <td>positivo</td>\n",
       "      <td>2010.0</td>\n",
       "      <td>2</td>\n",
       "      <td>2</td>\n",
       "      <td>4.0</td>\n",
       "      <td>0</td>\n",
       "      <td>0</td>\n",
       "      <td>2.0</td>\n",
       "      <td>125.000000</td>\n",
       "      <td>2</td>\n",
       "      <td>3</td>\n",
       "      <td>0</td>\n",
       "      <td>500.0</td>\n",
       "      <td>0</td>\n",
       "      <td>1</td>\n",
       "      <td>3709</td>\n",
       "    </tr>\n",
       "    <tr>\n",
       "      <th>...</th>\n",
       "      <td>...</td>\n",
       "      <td>...</td>\n",
       "      <td>...</td>\n",
       "      <td>...</td>\n",
       "      <td>...</td>\n",
       "      <td>...</td>\n",
       "      <td>...</td>\n",
       "      <td>...</td>\n",
       "      <td>...</td>\n",
       "      <td>...</td>\n",
       "      <td>...</td>\n",
       "      <td>...</td>\n",
       "      <td>...</td>\n",
       "      <td>...</td>\n",
       "      <td>...</td>\n",
       "      <td>...</td>\n",
       "    </tr>\n",
       "    <tr>\n",
       "      <th>9995</th>\n",
       "      <td>apple</td>\n",
       "      <td>2022.0</td>\n",
       "      <td>12</td>\n",
       "      <td>17</td>\n",
       "      <td>8.0</td>\n",
       "      <td>0</td>\n",
       "      <td>0</td>\n",
       "      <td>2.0</td>\n",
       "      <td>417.000000</td>\n",
       "      <td>0</td>\n",
       "      <td>2</td>\n",
       "      <td>0</td>\n",
       "      <td>0.0</td>\n",
       "      <td>250</td>\n",
       "      <td>6</td>\n",
       "      <td>23879</td>\n",
       "    </tr>\n",
       "    <tr>\n",
       "      <th>9996</th>\n",
       "      <td>xiaomi</td>\n",
       "      <td>2020.0</td>\n",
       "      <td>8</td>\n",
       "      <td>13</td>\n",
       "      <td>16.0</td>\n",
       "      <td>0</td>\n",
       "      <td>0</td>\n",
       "      <td>2.0</td>\n",
       "      <td>421.000000</td>\n",
       "      <td>0</td>\n",
       "      <td>2</td>\n",
       "      <td>0</td>\n",
       "      <td>0.0</td>\n",
       "      <td>1000</td>\n",
       "      <td>6</td>\n",
       "      <td>18813</td>\n",
       "    </tr>\n",
       "    <tr>\n",
       "      <th>9997</th>\n",
       "      <td>lenovo</td>\n",
       "      <td>2016.0</td>\n",
       "      <td>10</td>\n",
       "      <td>14</td>\n",
       "      <td>8.0</td>\n",
       "      <td>0</td>\n",
       "      <td>0</td>\n",
       "      <td>2.0</td>\n",
       "      <td>147.000000</td>\n",
       "      <td>2</td>\n",
       "      <td>3</td>\n",
       "      <td>0</td>\n",
       "      <td>250.0</td>\n",
       "      <td>0</td>\n",
       "      <td>2</td>\n",
       "      <td>7259</td>\n",
       "    </tr>\n",
       "    <tr>\n",
       "      <th>9998</th>\n",
       "      <td>razer</td>\n",
       "      <td>2020.0</td>\n",
       "      <td>8</td>\n",
       "      <td>10</td>\n",
       "      <td>16.0</td>\n",
       "      <td>0</td>\n",
       "      <td>0</td>\n",
       "      <td>2.0</td>\n",
       "      <td>497.000000</td>\n",
       "      <td>3</td>\n",
       "      <td>0</td>\n",
       "      <td>0</td>\n",
       "      <td>0.0</td>\n",
       "      <td>250</td>\n",
       "      <td>6</td>\n",
       "      <td>16806</td>\n",
       "    </tr>\n",
       "    <tr>\n",
       "      <th>9999</th>\n",
       "      <td>samsung</td>\n",
       "      <td>2010.0</td>\n",
       "      <td>4</td>\n",
       "      <td>4</td>\n",
       "      <td>4.0</td>\n",
       "      <td>0</td>\n",
       "      <td>0</td>\n",
       "      <td>2.0</td>\n",
       "      <td>343.560704</td>\n",
       "      <td>1</td>\n",
       "      <td>1</td>\n",
       "      <td>1</td>\n",
       "      <td>250.0</td>\n",
       "      <td>250</td>\n",
       "      <td>0</td>\n",
       "      <td>11727</td>\n",
       "    </tr>\n",
       "  </tbody>\n",
       "</table>\n",
       "<p>10000 rows × 16 columns</p>\n",
       "</div>"
      ],
      "text/plain": [
       "         marca     ano  qtd_nucleos  qtd_threads   ram  gpu_dedicada  ram_gpu  \\\n",
       "0           hp  2012.0            4            5   4.0             0        0   \n",
       "1       huawei  2014.0           10           18  16.0             0        0   \n",
       "2      samsung  2015.0           10           11   8.0             0        0   \n",
       "3     positivo  2020.0            8           16   4.0             0        0   \n",
       "4     positivo  2010.0            2            2   4.0             0        0   \n",
       "...        ...     ...          ...          ...   ...           ...      ...   \n",
       "9995     apple  2022.0           12           17   8.0             0        0   \n",
       "9996    xiaomi  2020.0            8           13  16.0             0        0   \n",
       "9997    lenovo  2016.0           10           14   8.0             0        0   \n",
       "9998     razer  2020.0            8           10  16.0             0        0   \n",
       "9999   samsung  2010.0            4            4   4.0             0        0   \n",
       "\n",
       "      entradas_usb  duracao_bateria  resolucao_tela  tipo_tela  tela_touch  \\\n",
       "0              3.0       540.000000               1          3           0   \n",
       "1              2.0       517.000000               0          2           0   \n",
       "2              2.0       329.000000               1          1           1   \n",
       "3              1.0       141.000000               2          3           0   \n",
       "4              2.0       125.000000               2          3           0   \n",
       "...            ...              ...             ...        ...         ...   \n",
       "9995           2.0       417.000000               0          2           0   \n",
       "9996           2.0       421.000000               0          2           0   \n",
       "9997           2.0       147.000000               2          3           0   \n",
       "9998           2.0       497.000000               3          0           0   \n",
       "9999           2.0       343.560704               1          1           1   \n",
       "\n",
       "      armazenamento_hdd  armazenamento_ssd  segmento  valor  \n",
       "0                   0.0               2000         6  16374  \n",
       "1                1000.0                250         6  16205  \n",
       "2                   0.0               2000         6  14016  \n",
       "3                 500.0                  0         1   5111  \n",
       "4                 500.0                  0         1   3709  \n",
       "...                 ...                ...       ...    ...  \n",
       "9995                0.0                250         6  23879  \n",
       "9996                0.0               1000         6  18813  \n",
       "9997              250.0                  0         2   7259  \n",
       "9998                0.0                250         6  16806  \n",
       "9999              250.0                250         0  11727  \n",
       "\n",
       "[10000 rows x 16 columns]"
      ]
     },
     "execution_count": 61,
     "metadata": {},
     "output_type": "execute_result"
    }
   ],
   "source": [
    "df"
   ]
  },
  {
   "cell_type": "code",
   "execution_count": 62,
   "metadata": {},
   "outputs": [
    {
     "data": {
      "text/plain": [
       "valor                1.000000\n",
       "segmento             0.710649\n",
       "duracao_bateria      0.584255\n",
       "qtd_nucleos          0.237226\n",
       "qtd_threads          0.217420\n",
       "armazenamento_ssd    0.186553\n",
       "ram                  0.051656\n",
       "ano                  0.019131\n",
       "tela_touch          -0.014736\n",
       "entradas_usb        -0.034862\n",
       "ram_gpu             -0.095108\n",
       "armazenamento_hdd   -0.134664\n",
       "resolucao_tela      -0.202899\n",
       "gpu_dedicada        -0.206533\n",
       "tipo_tela           -0.350197\n",
       "Name: valor, dtype: float64"
      ]
     },
     "execution_count": 62,
     "metadata": {},
     "output_type": "execute_result"
    }
   ],
   "source": [
    "#correlação entre as variáveis com a variável alvo para saber quais variáveis são mais importantes\n",
    "colunas_correlacao = df.drop(columns=['marca'])\n",
    "correlacao = colunas_correlacao.corr()\n",
    "correlacao['valor'].sort_values(ascending=False)"
   ]
  },
  {
   "cell_type": "code",
   "execution_count": null,
   "metadata": {},
   "outputs": [],
   "source": []
  },
  {
   "cell_type": "code",
   "execution_count": 63,
   "metadata": {},
   "outputs": [],
   "source": [
    "#separando as variáveis independentes e dependentes\n",
    "X = df.drop(columns=['valor', 'marca', 'ram', 'ano','tela_touch','entradas_usb','ram_gpu'])\n",
    "y = df['valor']\n",
    "\n",
    "#dividindo os dados em treino e teste\n",
    "from sklearn.model_selection import train_test_split\n",
    "\n",
    "X_train, X_test, y_train, y_test = train_test_split(X, y, test_size=0.2, random_state=42)\n"
   ]
  },
  {
   "cell_type": "code",
   "execution_count": 64,
   "metadata": {},
   "outputs": [
    {
     "name": "stdout",
     "output_type": "stream",
     "text": [
      "Erro médio quadrático: 9584226.388478832\n",
      "Acurácia do modelo: 0.7509008729834448\n"
     ]
    }
   ],
   "source": [
    "#aplicando standard scaler para normalizar os dados\n",
    "from sklearn.preprocessing import StandardScaler\n",
    "sc = StandardScaler()\n",
    "\n",
    "X_train = sc.fit_transform(X_train)\n",
    "X_test = sc.transform(X_test)\n",
    "\n",
    "#mudando o grau do polinomio para 2\n",
    "from sklearn.preprocessing import PolynomialFeatures\n",
    "poly = PolynomialFeatures(degree=2)\n",
    "X_train = poly.fit_transform(X_train)\n",
    "X_test = poly.transform(X_test)\n",
    "\n",
    "\n",
    "#aplicando o modelo de regressão linear\n",
    "from sklearn.linear_model import LinearRegression\n",
    "from sklearn.metrics import mean_squared_error\n",
    "\n",
    "lr = LinearRegression()\n",
    "lr.fit(X_train, y_train)\n",
    "y_pred = lr.predict(X_test)\n",
    "print('Erro médio quadrático:', mean_squared_error(y_test, y_pred))\n",
    "print('Acurácia do modelo:', lr.score(X_test, y_test))\n"
   ]
  },
  {
   "cell_type": "code",
   "execution_count": 65,
   "metadata": {},
   "outputs": [
    {
     "name": "stdout",
     "output_type": "stream",
     "text": [
      "Erro médio quadrático: 6863157.566273438\n",
      "Acurácia do modelo: 0.8216228948440856\n"
     ]
    }
   ],
   "source": [
    "#transformando o codigo acima em uma pipeline   \n",
    "from sklearn.pipeline import Pipeline\n",
    "\n",
    "#steps, em resumo ele vai aplicar o StandardScaler, PolynomialFeatures e LinearRegression respectivamente\n",
    "steps = [('scaler', StandardScaler()), ('poly', PolynomialFeatures(degree=2)), ('lr', LinearRegression())]\n",
    "\n",
    "# Criar a pipeline\n",
    "pipe = Pipeline(steps)\n",
    "\n",
    "# Ajustar a pipeline aos dados de treinamento\n",
    "pipe.fit(X_train, y_train)\n",
    "\n",
    "# Fazer previsões\n",
    "y_pred = pipe.predict(X_test)\n",
    "\n",
    "# Calcular o erro médio quadrático\n",
    "mse = mean_squared_error(y_test, y_pred)\n",
    "print('Erro médio quadrático:', mse)\n",
    "\n",
    "# Calcular a acurácia do modelo\n",
    "score = pipe.score(X_test, y_test)\n",
    "print('Acurácia do modelo:', score)"
   ]
  },
  {
   "cell_type": "code",
   "execution_count": 66,
   "metadata": {},
   "outputs": [
    {
     "name": "stdout",
     "output_type": "stream",
     "text": [
      "Melhores parâmetros: {'ridge__alpha': 10}\n",
      "Erro médio quadrático: 6771397.36066473\n",
      "Acurácia do modelo: 0.8240077912546572\n"
     ]
    }
   ],
   "source": [
    "#importando standard scaler\n",
    "\n",
    "#tunning do modelo com GridSearchCV\n",
    "from sklearn.model_selection import GridSearchCV\n",
    "\n",
    "#usando ridge regression\n",
    "from sklearn.linear_model import Ridge\n",
    "\n",
    "# Definir os passos\n",
    "steps = [('scaler', StandardScaler()), ('poly', PolynomialFeatures(degree=2)), ('ridge', Ridge())]\n",
    "\n",
    "# Criar a pipeline\n",
    "pipe = Pipeline(steps)\n",
    "\n",
    "# Definir os parâmetros\n",
    "parametros = {'ridge__alpha': [0.1, 1, 10, 100]}\n",
    "\n",
    "# Criar o objeto GridSearchCV\n",
    "grid = GridSearchCV(pipe, parametros, cv=5)\n",
    "\n",
    "# Ajustar o modelo aos dados de treinamento\n",
    "grid.fit(X_train, y_train)\n",
    "\n",
    "# Fazer previsões\n",
    "y_pred = grid.predict(X_test)\n",
    "\n",
    "# Calcular o erro médio quadrático\n",
    "mse = mean_squared_error(y_test, y_pred)\n",
    "\n",
    "# Calcular a acurácia do modelo\n",
    "score = grid.score(X_test, y_test)\n",
    "\n",
    "# Imprimir os resultados\n",
    "print('Melhores parâmetros:', grid.best_params_)\n",
    "\n",
    "# Calcular o erro médio quadrático\n",
    "print('Erro médio quadrático:', mse)\n",
    "\n",
    "# Calcular a acurácia do modelo\n",
    "print('Acurácia do modelo:', score)"
   ]
  }
 ],
 "metadata": {
  "kernelspec": {
   "display_name": "Python 3",
   "language": "python",
   "name": "python3"
  },
  "language_info": {
   "codemirror_mode": {
    "name": "ipython",
    "version": 3
   },
   "file_extension": ".py",
   "mimetype": "text/x-python",
   "name": "python",
   "nbconvert_exporter": "python",
   "pygments_lexer": "ipython3",
   "version": "3.12.4"
  }
 },
 "nbformat": 4,
 "nbformat_minor": 2
}
